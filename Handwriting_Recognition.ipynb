{
  "nbformat": 4,
  "nbformat_minor": 0,
  "metadata": {
    "colab": {
      "name": "Handwriting Recognition.ipynb",
      "provenance": []
    },
    "kernelspec": {
      "name": "python3",
      "display_name": "Python 3"
    }
  },
  "cells": [
    {
      "cell_type": "markdown",
      "metadata": {
        "id": "9krpMY7NUhTp",
        "colab_type": "text"
      },
      "source": [
        "# Neural network that recognizes handwriting digits"
      ]
    },
    {
      "cell_type": "code",
      "metadata": {
        "id": "HToXLHFuUi8x",
        "colab_type": "code",
        "colab": {}
      },
      "source": [
        "import tensorflow as tf"
      ],
      "execution_count": 1,
      "outputs": []
    },
    {
      "cell_type": "code",
      "metadata": {
        "id": "i6MPKzyVVTvv",
        "colab_type": "code",
        "colab": {}
      },
      "source": [
        "def train_mnist():\n",
        "  class myCallback(tf.keras.callbacks.Callback):\n",
        "    def on_epoch_end(self,epoch,logs={}):\n",
        "      if (logs.get('accuracy')>0.99):\n",
        "        print(\"\\n Reached 99% accuracy so cancelling training\")\n",
        "        self.model.stop_training = True\n",
        "\n",
        "  mnist = tf.keras.datasets.mnist\n",
        "\n",
        "  (x_train,y_train),(x_test,y_test)= mnist.load_data()\n",
        "\n",
        "  x_train,x_test = x_train/255.0, x_test/255.0\n",
        "\n",
        "  callbacks = myCallback()\n",
        "\n",
        "  model = tf.keras.models.Sequential([\n",
        "                                    tf.keras.layers.Flatten(input_shape=(28,28)),\n",
        "                                    tf.keras.layers.Dense(512,activation=tf.nn.relu),\n",
        "                                    tf.keras.layers.Dense(10,activation=tf.nn.softmax)\n",
        "  ])\n",
        "\n",
        "  model.compile(optimizer='adam',\n",
        "                loss= 'sparse_categorical_crossentropy',\n",
        "                metrics = ['accuracy'])\n",
        "  \n",
        "  history = model.fit(x_train,y_train,epochs= 10,callbacks=[callbacks])\n",
        "\n",
        "  return history.epoch,history.history['accuracy'][-1]"
      ],
      "execution_count": 13,
      "outputs": []
    },
    {
      "cell_type": "code",
      "metadata": {
        "id": "Ss_7SDtCY3P3",
        "colab_type": "code",
        "colab": {
          "base_uri": "https://localhost:8080/",
          "height": 238
        },
        "outputId": "91f5e62e-4406-4aba-df13-28dcaadbfe5c"
      },
      "source": [
        "train_mnist()"
      ],
      "execution_count": 14,
      "outputs": [
        {
          "output_type": "stream",
          "text": [
            "Epoch 1/10\n",
            "1875/1875 [==============================] - 7s 4ms/step - loss: 0.1995 - accuracy: 0.9416\n",
            "Epoch 2/10\n",
            "1875/1875 [==============================] - 8s 4ms/step - loss: 0.0800 - accuracy: 0.9758\n",
            "Epoch 3/10\n",
            "1875/1875 [==============================] - 8s 4ms/step - loss: 0.0524 - accuracy: 0.9834\n",
            "Epoch 4/10\n",
            "1875/1875 [==============================] - 8s 4ms/step - loss: 0.0380 - accuracy: 0.9879\n",
            "Epoch 5/10\n",
            "1862/1875 [============================>.] - ETA: 0s - loss: 0.0268 - accuracy: 0.9912\n",
            " Reached 99% accuracy so cancelling training\n",
            "1875/1875 [==============================] - 8s 4ms/step - loss: 0.0269 - accuracy: 0.9912\n"
          ],
          "name": "stdout"
        },
        {
          "output_type": "execute_result",
          "data": {
            "text/plain": [
              "([0, 1, 2, 3, 4], 0.9911999702453613)"
            ]
          },
          "metadata": {
            "tags": []
          },
          "execution_count": 14
        }
      ]
    },
    {
      "cell_type": "markdown",
      "metadata": {
        "id": "mN0mFri_bF79",
        "colab_type": "text"
      },
      "source": [
        "That's all for this project"
      ]
    },
    {
      "cell_type": "code",
      "metadata": {
        "id": "puWm4PcrbIM8",
        "colab_type": "code",
        "colab": {}
      },
      "source": [
        ""
      ],
      "execution_count": null,
      "outputs": []
    }
  ]
}